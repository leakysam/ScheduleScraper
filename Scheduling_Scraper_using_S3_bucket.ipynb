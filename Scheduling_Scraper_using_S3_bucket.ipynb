{
  "nbformat": 4,
  "nbformat_minor": 0,
  "metadata": {
    "colab": {
      "provenance": [],
      "authorship_tag": "ABX9TyOIa3VYqoGfFb43EsYa4N8k",
      "include_colab_link": true
    },
    "kernelspec": {
      "name": "python3",
      "display_name": "Python 3"
    },
    "language_info": {
      "name": "python"
    }
  },
  "cells": [
    {
      "cell_type": "markdown",
      "metadata": {
        "id": "view-in-github",
        "colab_type": "text"
      },
      "source": [
        "<a href=\"https://colab.research.google.com/github/leakysam/ScheduleScraper/blob/main/Scheduling_Scraper_using_S3_bucket.ipynb\" target=\"_parent\"><img src=\"https://colab.research.google.com/assets/colab-badge.svg\" alt=\"Open In Colab\"/></a>"
      ]
    },
    {
      "cell_type": "code",
      "execution_count": null,
      "metadata": {
        "id": "qQ4mTeUT6gyu"
      },
      "outputs": [],
      "source": [
        "import requests\n",
        "from bs4 import BeautifulSoup\n",
        "import pandas as pd\n",
        "import boto3\n",
        "from io import BytesIO\n",
        "\n",
        "def lambda_handler(event, context):\n",
        "    # Step 1: Get the webpage content\n",
        "    url = \"http://agromarketday.com/markets/9-nakawa-market\"  # Replace with the actual URL\n",
        "    response = requests.get(url)\n",
        "    soup = BeautifulSoup(response.text, 'html.parser')\n",
        "\n",
        "    # Step 2: Parse the table\n",
        "    data = []\n",
        "    table = soup.find('table', class_='table-market-prices')\n",
        "    rows = table.find_all('tr')\n",
        "\n",
        "    for row in rows[1:]:  # Skip the header row\n",
        "        cols = row.find_all('td')\n",
        "        commodity = cols[0].text.strip()\n",
        "        price = cols[1].text.strip()\n",
        "        unit = cols[2].text.strip()\n",
        "        data.append([commodity, price, unit])\n",
        "\n",
        "    # Step 3: Create a DataFrame\n",
        "    df = pd.DataFrame(data, columns=['Commodity', 'Price', 'Units'])\n",
        "\n",
        "    # Step 4: Save to Excel and upload to S3\n",
        "    s3 = boto3.client('s3')\n",
        "    bucket = 'your-s3-bucket-name'\n",
        "    file_name = 'commodity_prices.xlsx'\n",
        "\n",
        "    # Save the DataFrame to a buffer\n",
        "    buffer = BytesIO()\n",
        "    df.to_excel(buffer, index=False)\n",
        "    buffer.seek(0)\n",
        "\n",
        "    # Upload to S3\n",
        "    s3.put_object(Bucket=bucket, Key=file_name, Body=buffer.getvalue())\n",
        "\n",
        "    return {\n",
        "        'statusCode': 200,\n",
        "        'body': 'Data successfully saved to S3.'\n",
        "    }\n"
      ]
    }
  ]
}